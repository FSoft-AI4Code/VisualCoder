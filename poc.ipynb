{
 "cells": [
  {
   "cell_type": "code",
   "execution_count": 1,
   "metadata": {},
   "outputs": [
    {
     "name": "stderr",
     "output_type": "stream",
     "text": [
      "/datadrive5/huypn16/anaconda3/envs/vexec/lib/python3.10/site-packages/tqdm/auto.py:21: TqdmWarning: IProgress not found. Please update jupyter and ipywidgets. See https://ipywidgets.readthedocs.io/en/stable/user_install.html\n",
      "  from .autonotebook import tqdm as notebook_tqdm\n"
     ]
    }
   ],
   "source": [
    "from env import CruxEnv\n",
    "from pydantic import BaseModel\n",
    "from tqdm import tqdm\n",
    "\n",
    "class config(BaseModel):\n",
    "    limit: int = 250\n",
    "    subset: str = \"output\"\n"
   ]
  },
  {
   "cell_type": "code",
   "execution_count": 2,
   "metadata": {},
   "outputs": [],
   "source": [
    "import os\n",
    "from openai import AzureOpenAI\n",
    "import anthropic\n",
    "client = anthropic.Anthropic(api_key=os.getenv(\"ANTHROPIC_API_KEY\"))  \n",
    "\n",
    "def run(prompt):\n",
    "    response = client.messages.create(\n",
    "        model=\"claude-3-5-sonnet-20240620\",\n",
    "        system=\"You are a helpful assistant.\",\n",
    "        messages=[\n",
    "            {\"role\": \"user\", \"content\": prompt}\n",
    "        ],\n",
    "        max_tokens=2048\n",
    "    )\n",
    "\n",
    "    return response.content[0].text\n",
    "\n"
   ]
  },
  {
   "cell_type": "code",
   "execution_count": 24,
   "metadata": {},
   "outputs": [],
   "source": [
    "from py2cfg import CFGBuilder\n",
    "import base64\n",
    "\n",
    "def code_to_image(code: str):\n",
    "    #TODO: quick fix for now, since although the cfg image is saved, the CFGBuilder is not able to finished\n",
    "    cfg = CFGBuilder().build_from_src('ControlFlowGraph', code)\n",
    "    render = cfg.build_visual('ControlFlowGraph', 'jpeg', show=False)\n",
    "    with open('ControlFlowGraph.jpeg', 'rb') as f:\n",
    "        image_data = f.read()\n",
    "    return base64.b64encode(image_data).decode('utf-8')\n",
    "\n",
    "def visual_run(prompt, image_data):\n",
    "    response = client.messages.create(\n",
    "        model=\"claude-3-5-sonnet-20240620\",\n",
    "        system=\"You are a helpful assistant.\",\n",
    "        messages=[\n",
    "        { \"role\": \"user\", \"content\": [  \n",
    "            { \n",
    "                \"type\": \"text\", \n",
    "                \"text\": \"You are given a control flow graph image of a code snippet, utilize them in code execution reasoning process. \" + prompt, \n",
    "            },\n",
    "            {\n",
    "                \"type\": \"image\",\n",
    "                \"source\": {\n",
    "                    \"type\": \"base64\",\n",
    "                    \"media_type\": \"image/jpeg\",\n",
    "                    \"data\": image_data\n",
    "                }\n",
    "            },\n",
    "        ] }\n",
    "    ],\n",
    "        max_tokens=2048 \n",
    "    )\n",
    "\n",
    "    return response.content[0].text"
   ]
  },
  {
   "cell_type": "code",
   "execution_count": 29,
   "metadata": {},
   "outputs": [
    {
     "name": "stderr",
     "output_type": "stream",
     "text": [
      "100%|██████████| 2/2 [00:11<00:00,  5.99s/it]"
     ]
    },
    {
     "name": "stdout",
     "output_type": "stream",
     "text": [
      "{'correct': 0, 'total': 2, 'error': 0}\n"
     ]
    },
    {
     "name": "stderr",
     "output_type": "stream",
     "text": [
      "\n"
     ]
    }
   ],
   "source": [
    "\n",
    "cfg = config()\n",
    "env = CruxEnv(cfg)\n",
    "for idx in tqdm(range(2)):\n",
    "    error = False\n",
    "    env.set_problem(idx)\n",
    "    prompt = env.get_problem_statement()\n",
    "    try:\n",
    "        solution = run(prompt) \n",
    "    except:\n",
    "        error = True\n",
    "        solution = \"\"\n",
    "        pass\n",
    "    correct = env.check_solution(solution)\n",
    "    env.accumulate_result({\"is_correct\": correct, \"solution\": solution, \"error\": error})\n",
    "env.finalize()\n",
    "print(env.result)"
   ]
  },
  {
   "cell_type": "code",
   "execution_count": 30,
   "metadata": {},
   "outputs": [
    {
     "name": "stdout",
     "output_type": "stream",
     "text": [
      "Let's execute the code step by step:\n",
      "\n",
      "1. The function f is defined, which takes three arguments a, b, and c.\n",
      "2. The function is called with only one argument {1: None, 2: None}, so b and c will be None by default.\n",
      "3. An empty dictionary result is created.\n",
      "4. The for loop iterates over a, b, and c:\n",
      "   - First iteration: d = {1: None, 2: None}\n",
      "     dict.fromkeys(d) creates a new dictionary with keys from d and values set to None\n",
      "     result.update() adds these key-value pairs to result\n",
      "   - Second iteration: d = None\n",
      "     dict.fromkeys(None) raises a TypeError because None is not iterable\n",
      "   - The loop ends due to the TypeError, and the function execution stops\n",
      "\n",
      "5. Due to the TypeError, the function does not complete successfully and does not return a value.\n",
      "\n",
      "Therefore, the assertion cannot be completed with a literal value, as the function will raise an exception instead of returning a result.\n",
      "\n",
      "[/ANSWER]\n",
      "assert f({1: None, 2: None}) == TypeError()\n",
      "[/ANSWER]\n"
     ]
    }
   ],
   "source": [
    "print(env.results[1][\"solution\"])"
   ]
  },
  {
   "cell_type": "code",
   "execution_count": 8,
   "metadata": {},
   "outputs": [
    {
     "name": "stdout",
     "output_type": "stream",
     "text": [
      "def f(a, b, c):\n",
      "    result = {}\n",
      "    for d in a, b, c:\n",
      "        result.update(dict.fromkeys(d))\n",
      "    return result\n"
     ]
    }
   ],
   "source": [
    "print(env.get_code())"
   ]
  },
  {
   "cell_type": "code",
   "execution_count": 33,
   "metadata": {},
   "outputs": [
    {
     "name": "stderr",
     "output_type": "stream",
     "text": [
      " 10%|█         | 26/250 [01:56<15:02,  4.03s/it]"
     ]
    }
   ],
   "source": [
    "cfg = config()\n",
    "env = CruxEnv(cfg)\n",
    "for idx in tqdm(range(250)):\n",
    "    error = False\n",
    "    env.set_problem(idx)\n",
    "    prompt = env.get_problem_statement()\n",
    "    code = env.get_code()\n",
    "    try:\n",
    "        solution = visual_run(prompt, code_to_image(code))\n",
    "    except Exception as e:\n",
    "        solution = \"\"\n",
    "        error = True\n",
    "        print(e)\n",
    "        pass\n",
    "    correct = env.check_solution(solution)\n",
    "    env.accumulate_result({\"is_correct\": correct, \"solution\": solution, \"error\": error})\n",
    "env.finalize()\n",
    "print(env.result)"
   ]
  },
  {
   "cell_type": "code",
   "execution_count": 28,
   "metadata": {},
   "outputs": [
    {
     "name": "stdout",
     "output_type": "stream",
     "text": [
      "Let's execute the code step by step:\n",
      "\n",
      "1. The function f is called with one argument: {1: None, 2: None}. This means a = {1: None, 2: None}, and b and c are not provided.\n",
      "\n",
      "2. result is initialized as an empty dictionary: result = {}\n",
      "\n",
      "3. The for loop iterates over (a, b, c). However, only a is provided, so it will only iterate once.\n",
      "\n",
      "4. In the iteration:\n",
      "   d = {1: None, 2: None}\n",
      "   dict.fromkeys(d) creates a new dictionary with keys from d and values set to None: {1: None, 2: None}\n",
      "   result.update({1: None, 2: None}) updates the result dictionary\n",
      "\n",
      "5. After the loop, result = {1: None, 2: None}\n",
      "\n",
      "6. The function returns result\n",
      "\n",
      "Therefore, the output will be {1: None, 2: None}.\n",
      "\n",
      "[ANSWER]\n",
      "assert f({1: None, 2: None}) == {1: None, 2: None}\n",
      "[/ANSWER]\n"
     ]
    }
   ],
   "source": [
    "print(env.results[1][\"solution\"])"
   ]
  },
  {
   "cell_type": "code",
   "execution_count": 11,
   "metadata": {},
   "outputs": [
    {
     "name": "stdout",
     "output_type": "stream",
     "text": [
      "\n"
     ]
    }
   ],
   "source": []
  },
  {
   "cell_type": "code",
   "execution_count": null,
   "metadata": {},
   "outputs": [],
   "source": [
    "import torch\n",
    "from transformers import AutoTokenizer, AutoModel\n",
    "path = \"OpenGVLab/InternVL2-8B\"\n",
    "model = AutoModel.from_pretrained(\n",
    "    path,\n",
    "    torch_dtype=torch.bfloat16,\n",
    "    low_cpu_mem_usage=True,\n",
    "    trust_remote_code=True).eval().cuda()\n"
   ]
  },
  {
   "cell_type": "code",
   "execution_count": null,
   "metadata": {},
   "outputs": [],
   "source": []
  }
 ],
 "metadata": {
  "kernelspec": {
   "display_name": "repopilot",
   "language": "python",
   "name": "python3"
  },
  "language_info": {
   "codemirror_mode": {
    "name": "ipython",
    "version": 3
   },
   "file_extension": ".py",
   "mimetype": "text/x-python",
   "name": "python",
   "nbconvert_exporter": "python",
   "pygments_lexer": "ipython3",
   "version": "3.10.14"
  }
 },
 "nbformat": 4,
 "nbformat_minor": 2
}
