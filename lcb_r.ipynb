{
 "cells": [
  {
   "cell_type": "code",
   "execution_count": 4,
   "metadata": {},
   "outputs": [],
   "source": [
    "from datasets import load_dataset\n",
    "import json\n",
    "from dataclasses import dataclass\n",
    "from enum import Enum\n",
    "import zlib\n",
    "import pickle\n",
    "from tqdm import tqdm\n",
    "from src.utils.utils import evaluate_generations, codegen_metrics\n",
    "from src.tasks.debug.lcb_debug import CodeGenerationProblem\n",
    "\n",
    "dataset = load_dataset(\"huypn16/LCB-R-F\")[\"test\"]"
   ]
  },
  {
   "cell_type": "code",
   "execution_count": null,
   "metadata": {},
   "outputs": [],
   "source": [
    "generations_all = []\n",
    "samples = []\n",
    "responses_all = []\n",
    "\n",
    "for idx in range(len(dataset)):\n",
    "# for idx in range(1):\n",
    "    problem = CodeGenerationProblem(dataset[idx])\n",
    "    generations = []\n",
    "    for failed_generation in dataset[idx][\"failed_generations\"]:\n",
    "        buggy_program = failed_generation[\"failed_solution\"]\n",
    "        # error_message = \"\"\n",
    "        \n",
    "        # generations = run(problem, buggy_program, error_message)\n",
    "        generations.append(buggy_program)\n",
    "    generations_all.append(generations)\n",
    "    samples.append(problem.get_evaluation_sample())\n",
    "    \n",
    "results, metadata = evaluate_generations(samples, generations_all, num_process_evaluate=32, timeout=6)\n",
    "metric = codegen_metrics(samples, generations_all)"
   ]
  },
  {
   "cell_type": "code",
   "execution_count": null,
   "metadata": {},
   "outputs": [],
   "source": [
    "valid_ids = {}\n",
    "error_messages = []\n",
    "for id_instance, instance in enumerate(metric[2]):\n",
    "    messages = []\n",
    "    if id_instance not in valid_ids:\n",
    "        valid_ids[id_instance] = []\n",
    "    for id_sample, sample in enumerate(instance):\n",
    "        if \"TimeoutException\" not in sample and '{\"output\": \"\"' not in sample:\n",
    "            sample = sample.replace(', \"error_code\": -2, \"error_message\":', \",\")\n",
    "            valid_ids[id_instance].append(id_sample)\n",
    "            messages.append(sample)\n",
    "        \n",
    "    error_messages.append(messages)\n",
    "    "
   ]
  },
  {
   "cell_type": "code",
   "execution_count": null,
   "metadata": {},
   "outputs": [],
   "source": [
    "valid_ids = {k: v for k, v in valid_ids.items() if len(v) > 0}\n",
    "error_messages = [error_messages[k] for k in valid_ids.keys()]"
   ]
  },
  {
   "cell_type": "code",
   "execution_count": null,
   "metadata": {},
   "outputs": [],
   "source": [
    "# Initialize an empty list to store the result\n",
    "result = []\n",
    "total_samples = 0\n",
    "# Iterate over each key `i` in `valid_ids`\n",
    "for i in valid_ids.keys():\n",
    "    # Check if `valid_ids[i]` has elements\n",
    "    if len(valid_ids[i]) > 0:\n",
    "        inner_list = []\n",
    "        for valid_id in valid_ids[i]:\n",
    "            inner_list.append(generations_all[i][valid_id])\n",
    "                \n",
    "        result.append(inner_list)\n",
    "        total_samples += len(inner_list)\n",
    "print(total_samples)"
   ]
  },
  {
   "cell_type": "code",
   "execution_count": null,
   "metadata": {},
   "outputs": [],
   "source": [
    "len(result[0])"
   ]
  },
  {
   "cell_type": "code",
   "execution_count": null,
   "metadata": {},
   "outputs": [],
   "source": [
    "dataset = dataset.add_column(\"failed_solution\", result)\n",
    "\n",
    "for idx in range(len(dataset)):\n",
    "    dataset[idx][\"error_messages\"] = error_messages[idx]"
   ]
  },
  {
   "cell_type": "code",
   "execution_count": null,
   "metadata": {},
   "outputs": [],
   "source": [
    "for instance in dataset:\n",
    "    if len(instance[\"failed_solution\"]) != len(instance[\"error_messages\"]):\n",
    "        print(len(instance[\"failed_generations\"]))\n",
    "        print(len(instance[\"error_messages\"]))"
   ]
  },
  {
   "cell_type": "code",
   "execution_count": null,
   "metadata": {},
   "outputs": [],
   "source": [
    "error_messages[0]"
   ]
  },
  {
   "cell_type": "code",
   "execution_count": null,
   "metadata": {},
   "outputs": [],
   "source": [
    "dataset.push_to_hub(\"huypn16/LCB-R-F\")"
   ]
  },
  {
   "cell_type": "code",
   "execution_count": 2,
   "metadata": {},
   "outputs": [],
   "source": [
    "import anthropic\n",
    "import re\n",
    "import os\n",
    "\n",
    "pattern = r\"```python(.*?)```\"  \n",
    "SYSTEM_MESSAGE_GENERIC = f\"You are an expert Python programmer. You will be given a question (problem specification), a buggy program and its error message, you will generate a correct Python program that matches the specification, fix the original program and passes all the tests. You should think step-by-step logically before returning final the program. The program should only include function definition with parameter list in order.\"\n",
    "\n",
    "def get_template_answer(question: CodeGenerationProblem, buggy_prorgam: str, error_message: str):\n",
    "    prompt = f\"### Question:\\n{question.question_content}\\n\\n\"\n",
    "    prompt += f\"### Buggy program:\\n```python\\n{buggy_prorgam}\\n```\\n\\n\"\n",
    "    prompt += f\"### Error message:\\n{error_message}\\n\\n\"\n",
    "    prompt += \"Your reasoning: ....```python\\n# YOUR CODE HERE\\n```\\n\\n\"\n",
    "    return prompt\n",
    "    \n",
    "def run(problem: CodeGenerationProblem, buggy_program: str, error_message: str):\n",
    "    client = anthropic.Anthropic(api_key=os.getenv(\"ANTHROPIC_API_KEY\"))\n",
    "    chat_messages = [\n",
    "        {\n",
    "            \"role\": \"user\",\n",
    "            \"content\": get_template_answer(problem, buggy_program, error_message),\n",
    "        },\n",
    "    ]\n",
    "    try:\n",
    "        response = client.messages.create(\n",
    "            model=\"claude-3-5-sonnet-20240620\",\n",
    "            system=SYSTEM_MESSAGE_GENERIC,\n",
    "            messages=chat_messages,\n",
    "            max_tokens=2048\n",
    "        )\n",
    "        solution = response.content[0].text\n",
    "    except:\n",
    "        solution = \"\"\n",
    "        \n",
    "    match = re.search(pattern, solution, re.DOTALL)\n",
    "    if match:\n",
    "        python_code = match.group(1).strip()\n",
    "    else:\n",
    "        python_code = \"\"\n",
    "    return python_code"
   ]
  },
  {
   "cell_type": "code",
   "execution_count": 6,
   "metadata": {},
   "outputs": [
    {
     "name": "stderr",
     "output_type": "stream",
     "text": [
      "  0%|          | 0/153 [00:00<?, ?it/s]\u001b[A"
     ]
    }
   ],
   "source": [
    "generations_all = []\n",
    "samples = []\n",
    "responses_all = []\n",
    "\n",
    "for idx in tqdm(range(len(dataset))):\n",
    "# for idx in range(1):\n",
    "    problem = CodeGenerationProblem(dataset[idx])\n",
    "    generations = []\n",
    "    for j, buggy_program in enumerate(dataset[idx][\"failed_solution\"]):\n",
    "        error_message = dataset[idx][\"error_messages\"][j]     \n",
    "        generations.append(run(problem, buggy_program, error_message))\n",
    "    generations_all.append(generations)\n",
    "    samples.append(problem.get_evaluation_sample())\n",
    "    \n",
    "results, metadata = evaluate_generations(samples, generations_all, num_process_evaluate=32, timeout=6)\n",
    "metric = codegen_metrics(samples, generations_all)"
   ]
  },
  {
   "cell_type": "code",
   "execution_count": 5,
   "metadata": {},
   "outputs": [],
   "source": [
    "from src.codetransform.next import execute_and_trace\n",
    "from tqdm import tqdm"
   ]
  },
  {
   "cell_type": "code",
   "execution_count": 12,
   "metadata": {},
   "outputs": [],
   "source": [
    "import anthropic\n",
    "import re\n",
    "import os\n",
    "\n",
    "pattern = r\"```python(.*?)```\"  \n",
    "SYSTEM_MESSAGE_GENERIC = f\"You are an expert Python programmer. You will be given a question (problem specification), a buggy program with annotation of intermediate variables and its error message, you will generate a correct Python program that matches the specification, fix the original program based on control flow and error message to pass all the tests. You should think step-by-step logically before returning final the program. The program should only include function definition with parameter list in order.\"\n",
    "\n",
    "def get_template_answer_next(question: CodeGenerationProblem, annotated_program: str, error_message: str):\n",
    "    \n",
    "    \n",
    "    prompt = f\"### Question:\\n{question.question_content}\\n\\n\"\n",
    "    prompt += f\"### Annotated Buggy program:\\n```python\\n{annotated_program}\\n```\\n\\n\"\n",
    "    prompt += f\"### Error message:\\n{error_message}\\n\\n\"\n",
    "    prompt += \"Your reasoning: ....```python\\n# YOUR CODE HERE\\n```\\n\\n\"\n",
    "    return prompt\n",
    "    \n",
    "def run_next(problem: CodeGenerationProblem, buggy_program: str, error_message: str):\n",
    "    client = anthropic.Anthropic(api_key=os.getenv(\"ANTHROPIC_API_KEY\"))\n",
    "    chat_messages = [\n",
    "        {\n",
    "            \"role\": \"user\",\n",
    "            \"content\": get_template_answer_next(problem, buggy_program, error_message),\n",
    "        },\n",
    "    ]\n",
    "    try:\n",
    "        response = client.messages.create(\n",
    "            model=\"claude-3-5-sonnet-20240620\",\n",
    "            system=SYSTEM_MESSAGE_GENERIC,\n",
    "            messages=chat_messages,\n",
    "            max_tokens=2048\n",
    "        )\n",
    "        solution = response.content[0].text\n",
    "    except:\n",
    "        solution = \"\"\n",
    "        \n",
    "    match = re.search(pattern, solution, re.DOTALL)\n",
    "    if match:\n",
    "        python_code = match.group(1).strip()\n",
    "    else:\n",
    "        python_code = \"\"\n",
    "    return python_code"
   ]
  },
  {
   "cell_type": "code",
   "execution_count": 7,
   "metadata": {},
   "outputs": [],
   "source": [
    "from together import Together\n",
    "\n",
    "client = Together()\n",
    "\n",
    "def run_model(prompt):\n",
    "    completion = client.chat.completions.create(\n",
    "        model=\"meta-llama/Meta-Llama-3.1-70B-Instruct-Turbo\",\n",
    "        messages=[{\"role\": \"user\", \"content\": prompt}],\n",
    "    )\n",
    "    return completion.choices[0].message.content"
   ]
  },
  {
   "cell_type": "code",
   "execution_count": 8,
   "metadata": {},
   "outputs": [],
   "source": [
    "def parse(program):\n",
    "    pattern = r\"```python(.*?)```\"\n",
    "    match = re.search(pattern, program, re.DOTALL)\n",
    "    if match:\n",
    "        python_code = match.group(1).strip()\n",
    "    else:\n",
    "        python_code = \"\"\n",
    "    return python_code\n",
    "    \n",
    "def transform_program(program, input_output):\n",
    "    prompt = f\"\"\"Given following program and input-output examples, firstly put any defined variable into the solution method or function. Remove any stdin expression and inplace directly the input into method call or function in a single assert\\n\\n. Only return the python transformed program only. The transformed program should include solve python code and a single assert, when the input parameters are inside method or function call in this assert statement. For example,\n",
    "original program:\n",
    "MOD = 123\n",
    "class Solution:\n",
    "    def add(self, a, b):\n",
    "        return a + b + MOD\n",
    "\n",
    "input: 1, 2\n",
    "expected: 125\n",
    "transformed program:\n",
    "class Solution:\n",
    "    def add(self, a, b):\n",
    "        return a + b + 123\n",
    "\n",
    "assert Solution().add(1, 2) == 125\n",
    "\n",
    "original program:\n",
    "N = int(input())\n",
    "def add(a):\n",
    "    return a + 1\n",
    "\n",
    "print(add(N))\n",
    "\n",
    "input: 1\n",
    "expected: 2\n",
    "transformed program:\n",
    "def add(a):\n",
    "    return a + 1\n",
    "\n",
    "assert add(1) == 2\n",
    "original program:\n",
    "{program}\n",
    "output, input and expected output: {input_output}\n",
    "transformed program:\"\"\"\n",
    "    # testable_program = model.generate_content([prompt]).text\n",
    "    testable_program = run_model(prompt)\n",
    "    testable_program = parse(testable_program)\n",
    "    annotated_program = execute_and_trace(testable_program)\n",
    "\n",
    "    return annotated_program, testable_program"
   ]
  },
  {
   "cell_type": "code",
   "execution_count": 9,
   "metadata": {},
   "outputs": [
    {
     "name": "stderr",
     "output_type": "stream",
     "text": [
      " 10%|▉         | 15/153 [01:14<12:58,  5.64s/it]"
     ]
    },
    {
     "name": "stdout",
     "output_type": "stream",
     "text": [
      "Attempt 1 failed: closing parenthesis ']' does not match opening parenthesis '(' on line 40 (eidetivbiylxtsidmjhmywxfvwtjlnnb.py, line 43)\n",
      "Retrying in 10 seconds...\n"
     ]
    },
    {
     "name": "stderr",
     "output_type": "stream",
     "text": [
      " 10%|█         | 16/153 [01:35<23:39, 10.36s/it]"
     ]
    },
    {
     "name": "stdout",
     "output_type": "stream",
     "text": [
      "Attempt 2 failed: closing parenthesis ']' does not match opening parenthesis '(' on line 40 (mbxmmobqqwwjbrinjkawyisysppzejxn.py, line 43)\n",
      "Max retries reached. Moving on...\n"
     ]
    },
    {
     "name": "stderr",
     "output_type": "stream",
     "text": [
      "100%|██████████| 153/153 [18:56<00:00,  7.43s/it]\n"
     ]
    }
   ],
   "source": [
    "import time\n",
    "max_retries = 2\n",
    "wait_time = 10\n",
    "next_programs = []\n",
    "testable_programs = []\n",
    "\n",
    "for idx in tqdm(range(len(dataset))):\n",
    "    next_annotated_programs_per_problem = []\n",
    "    testable_programs_per_problem = []\n",
    "    for j, buggy_program in enumerate(dataset[idx][\"failed_solution\"]):\n",
    "        error_message = dataset[idx][\"error_messages\"][j]\n",
    "        for attempt in range(max_retries):\n",
    "            try:\n",
    "                # Try to transform the buggy program\n",
    "                next_annotated_program, testable_program = transform_program(buggy_program, error_message)\n",
    "                break  # Exit the loop if successful\n",
    "            except Exception as e:\n",
    "                print(f\"Attempt {attempt + 1} failed: {e}\")\n",
    "                next_annotated_program = \"\"\n",
    "                testable_program = \"\"\n",
    "                if attempt < max_retries - 1:  # Wait only if there are retries left\n",
    "                    print(f\"Retrying in {wait_time} seconds...\")\n",
    "                    time.sleep(wait_time)\n",
    "                else:\n",
    "                    print(\"Max retries reached. Moving on...\")\n",
    "        next_annotated_programs_per_problem.append(next_annotated_program)\n",
    "        testable_programs_per_problem.append(testable_program)\n",
    "    next_programs.append(next_annotated_programs_per_problem)\n",
    "    testable_programs.append(testable_programs_per_problem)\n",
    "    "
   ]
  },
  {
   "cell_type": "code",
   "execution_count": 16,
   "metadata": {},
   "outputs": [
    {
     "name": "stdout",
     "output_type": "stream",
     "text": [
      "class Solution:\n",
      "    def maxSelectedElements(self, nums): # (0) __module__=builtins; __qualname__=Solution; maxSelectedElements=<function Solution.maxSelectedElements at 0x7f698bfe13f0>; ...; (2) self=<Solution object at 0x7f69a810d030>\n",
      "        nums.sort() # (3) self=<Solution object at 0x7f69a810e5f0>\n",
      "        dp = {} # (4) self=<Solution object at 0x7f69a810f8e0>; dp={}\n",
      "        max_length = 0 # (5) self=<Solution object at 0x7f69a810cdc0>; max_length=0\n",
      "        for num in nums: # (6) self=<Solution object at 0x7f69a810d2a0>; num=1; ...; (22) self=<Solution object at 0x7f69a810f340>\n",
      "            dp[num] = dp.get(num - 1, 0) + 1 # (7) self=<Solution object at 0x7f69a810e260>; dp={1: 1}; ...; (19) self=<Solution object at 0x7f69a810ddb0>; dp={1: 1, 2: 2, 4: 1, 5: 2, 7: 1, 8: 2, 10: 1}\n",
      "            dp[num + 1] = dp.get(num, 0) + 1 # (8) self=<Solution object at 0x7f69a810c070>; dp={1: 1, 2: 2}; ...; (20) self=<Solution object at 0x7f69a810e4a0>; dp={1: 1, 2: 2, 4: 1, 5: 2, 7: 1, 8: 2, 10: 1, 11: 2}\n",
      "            max_length = max(max_length, dp[num], dp[num + 1]) # (9) self=<Solution object at 0x7f69a810f850>; max_length=2; ...; (21) self=<Solution object at 0x7f69a810dba0>\n",
      "        return max_length # (23) self=<Solution object at 0x7f69a810ec80>; nums=[1, 4, 7, 10]; dp={1: 1, 2: 2, 4: 1, 5: 2, 7: 1, 8: 2, 10: 1, 11: 2}; max_length=2; num=10\n",
      "\n",
      "assert Solution().maxSelectedElements([1, 4, 7, 10]) == 1\n"
     ]
    }
   ],
   "source": [
    "print(annotated_buggy_program)"
   ]
  },
  {
   "cell_type": "code",
   "execution_count": 13,
   "metadata": {},
   "outputs": [
    {
     "name": "stderr",
     "output_type": "stream",
     "text": [
      "100%|██████████| 153/153 [1:09:00<00:00, 27.06s/it]\n",
      " 15%|█▌        | 23/153 [00:05<00:17,  7.32it/s]"
     ]
    },
    {
     "name": "stdout",
     "output_type": "stream",
     "text": [
      "unable to get function error = (<class 'AttributeError'>, AttributeError(\"module 'tmp_sol' has no attribute 'smallestString'\"), <traceback object at 0x7f69a9befd00>)\n"
     ]
    },
    {
     "name": "stderr",
     "output_type": "stream",
     "text": [
      " 20%|█▉        | 30/153 [00:06<00:12,  9.59it/s]"
     ]
    },
    {
     "name": "stdout",
     "output_type": "stream",
     "text": [
      "All tests passed!\n",
      "All tests passed!"
     ]
    },
    {
     "name": "stderr",
     "output_type": "stream",
     "text": [
      " 23%|██▎       | 35/153 [00:06<00:08, 13.53it/s]"
     ]
    },
    {
     "name": "stdout",
     "output_type": "stream",
     "text": [
      "\n"
     ]
    },
    {
     "name": "stderr",
     "output_type": "stream",
     "text": [
      " 27%|██▋       | 41/153 [00:06<00:06, 16.14it/s]"
     ]
    },
    {
     "name": "stdout",
     "output_type": "stream",
     "text": [
      "unable to get function error = (<class 'AttributeError'>, AttributeError(\"module 'tmp_sol' has no attribute 'minimumOperations'\"), <traceback object at 0x7f698bfaf780>)\n"
     ]
    },
    {
     "name": "stderr",
     "output_type": "stream",
     "text": [
      " 29%|██▉       | 44/153 [00:06<00:06, 16.42it/s]"
     ]
    },
    {
     "name": "stdout",
     "output_type": "stream",
     "text": [
      "All test cases passed!\n"
     ]
    },
    {
     "name": "stderr",
     "output_type": "stream",
     "text": [
      " 31%|███       | 47/153 [00:07<00:09, 11.70it/s]"
     ]
    },
    {
     "name": "stdout",
     "output_type": "stream",
     "text": [
      "All tests passed!\n"
     ]
    },
    {
     "name": "stderr",
     "output_type": "stream",
     "text": [
      " 34%|███▍      | 52/153 [00:07<00:08, 12.25it/s]"
     ]
    },
    {
     "name": "stdout",
     "output_type": "stream",
     "text": [
      "All tests passed!\n"
     ]
    },
    {
     "name": "stderr",
     "output_type": "stream",
     "text": [
      " 49%|████▉     | 75/153 [00:09<00:05, 14.83it/s]"
     ]
    },
    {
     "name": "stdout",
     "output_type": "stream",
     "text": [
      "unable to get function error = (<class 'AttributeError'>, AttributeError(\"module 'tmp_sol' has no attribute 'minSizeSubarray'\"), <traceback object at 0x7f69a9bb7a80>)\n"
     ]
    },
    {
     "name": "stderr",
     "output_type": "stream",
     "text": [
      " 51%|█████     | 78/153 [00:09<00:04, 15.08it/s]"
     ]
    },
    {
     "name": "stdout",
     "output_type": "stream",
     "text": [
      "[2, 1, -1]\n",
      "[1, 2, 1]\n"
     ]
    },
    {
     "name": "stderr",
     "output_type": "stream",
     "text": [
      " 55%|█████▍    | 84/153 [00:09<00:03, 17.54it/s]"
     ]
    },
    {
     "name": "stdout",
     "output_type": "stream",
     "text": [
      "24\n",
      "717356085\n"
     ]
    },
    {
     "name": "stderr",
     "output_type": "stream",
     "text": [
      " 63%|██████▎   | 97/153 [00:10<00:03, 16.41it/s]"
     ]
    },
    {
     "name": "stdout",
     "output_type": "stream",
     "text": [
      "All tests passed!\n",
      "All tests passed!\n"
     ]
    },
    {
     "name": "stderr",
     "output_type": "stream",
     "text": [
      " 66%|██████▌   | 101/153 [00:10<00:03, 13.93it/s]"
     ]
    },
    {
     "name": "stdout",
     "output_type": "stream",
     "text": [
      "All tests passed!\n"
     ]
    },
    {
     "name": "stderr",
     "output_type": "stream",
     "text": [
      " 67%|██████▋   | 103/153 [00:11<00:03, 13.42it/s]"
     ]
    },
    {
     "name": "stdout",
     "output_type": "stream",
     "text": [
      "All test cases passed!\n",
      "All tests passed!\n"
     ]
    },
    {
     "name": "stderr",
     "output_type": "stream",
     "text": [
      " 71%|███████   | 109/153 [00:11<00:03, 11.97it/s]"
     ]
    },
    {
     "name": "stdout",
     "output_type": "stream",
     "text": [
      "All test cases passed!\n"
     ]
    },
    {
     "name": "stderr",
     "output_type": "stream",
     "text": [
      " 75%|███████▌  | 115/153 [00:11<00:02, 15.34it/s]"
     ]
    },
    {
     "name": "stdout",
     "output_type": "stream",
     "text": [
      "All tests passed!\n"
     ]
    },
    {
     "name": "stderr",
     "output_type": "stream",
     "text": [
      " 76%|███████▋  | 117/153 [00:12<00:03, 10.41it/s]"
     ]
    },
    {
     "name": "stdout",
     "output_type": "stream",
     "text": [
      "Test case passed!\n"
     ]
    },
    {
     "name": "stderr",
     "output_type": "stream",
     "text": [
      " 80%|███████▉  | 122/153 [00:12<00:02, 15.25it/s]"
     ]
    },
    {
     "name": "stdout",
     "output_type": "stream",
     "text": [
      "4\n",
      "3\n"
     ]
    },
    {
     "name": "stderr",
     "output_type": "stream",
     "text": [
      " 85%|████████▍ | 130/153 [00:12<00:01, 17.46it/s]"
     ]
    },
    {
     "name": "stdout",
     "output_type": "stream",
     "text": [
      "alarm went off\n"
     ]
    },
    {
     "name": "stderr",
     "output_type": "stream",
     "text": [
      " 90%|████████▉ | 137/153 [00:14<00:03,  4.64it/s]"
     ]
    },
    {
     "name": "stdout",
     "output_type": "stream",
     "text": [
      "alarm went off\n"
     ]
    },
    {
     "name": "stderr",
     "output_type": "stream",
     "text": [
      " 92%|█████████▏| 141/153 [00:16<00:03,  3.39it/s]"
     ]
    },
    {
     "name": "stdout",
     "output_type": "stream",
     "text": [
      "alarm went off\n"
     ]
    },
    {
     "name": "stderr",
     "output_type": "stream",
     "text": [
      " 93%|█████████▎| 143/153 [00:16<00:02,  4.39it/s]"
     ]
    },
    {
     "name": "stdout",
     "output_type": "stream",
     "text": [
      "alarm went off\n"
     ]
    },
    {
     "name": "stderr",
     "output_type": "stream",
     "text": [
      " 95%|█████████▍| 145/153 [00:17<00:01,  4.05it/s]"
     ]
    },
    {
     "name": "stdout",
     "output_type": "stream",
     "text": [
      "alarm went off\n",
      "alarm went off\n"
     ]
    },
    {
     "name": "stderr",
     "output_type": "stream",
     "text": [
      " 95%|█████████▌| 146/153 [00:19<00:04,  1.71it/s]"
     ]
    },
    {
     "name": "stdout",
     "output_type": "stream",
     "text": [
      "alarm went off\n"
     ]
    },
    {
     "name": "stderr",
     "output_type": "stream",
     "text": [
      " 96%|█████████▌| 147/153 [00:25<00:10,  1.81s/it]"
     ]
    },
    {
     "name": "stdout",
     "output_type": "stream",
     "text": [
      "alarm went off\n"
     ]
    },
    {
     "name": "stderr",
     "output_type": "stream",
     "text": [
      " 97%|█████████▋| 148/153 [00:26<00:07,  1.54s/it]"
     ]
    },
    {
     "name": "stdout",
     "output_type": "stream",
     "text": [
      "alarm went off\n"
     ]
    },
    {
     "name": "stderr",
     "output_type": "stream",
     "text": [
      " 98%|█████████▊| 150/153 [00:29<00:04,  1.66s/it]"
     ]
    },
    {
     "name": "stdout",
     "output_type": "stream",
     "text": [
      "alarm went off\n"
     ]
    },
    {
     "name": "stderr",
     "output_type": "stream",
     "text": [
      " 99%|█████████▊| 151/153 [00:37<00:05,  2.95s/it]"
     ]
    },
    {
     "name": "stdout",
     "output_type": "stream",
     "text": [
      "alarm went off\n"
     ]
    },
    {
     "name": "stderr",
     "output_type": "stream",
     "text": [
      " 99%|█████████▉| 152/153 [00:53<00:06,  6.15s/it]"
     ]
    },
    {
     "name": "stdout",
     "output_type": "stream",
     "text": [
      "alarm went off\n"
     ]
    },
    {
     "name": "stderr",
     "output_type": "stream",
     "text": [
      "100%|██████████| 153/153 [01:07<00:00,  2.25it/s]\n"
     ]
    },
    {
     "name": "stdout",
     "output_type": "stream",
     "text": [
      "Evaluating 383...\n"
     ]
    },
    {
     "name": "stderr",
     "output_type": "stream",
     "text": [
      " 15%|█▍        | 57/383 [00:07<00:20, 16.11it/s]"
     ]
    },
    {
     "name": "stdout",
     "output_type": "stream",
     "text": [
      "unable to get function error = (<class 'AttributeError'>, AttributeError(\"module 'tmp_sol' has no attribute 'smallestString'\"), <traceback object at 0x7f698bf229c0>)\n"
     ]
    },
    {
     "name": "stderr",
     "output_type": "stream",
     "text": [
      " 25%|██▍       | 95/383 [00:10<00:19, 14.87it/s]"
     ]
    },
    {
     "name": "stdout",
     "output_type": "stream",
     "text": [
      "All tests passed!\n"
     ]
    },
    {
     "name": "stderr",
     "output_type": "stream",
     "text": [
      " 27%|██▋       | 102/383 [00:11<00:14, 19.64it/s]"
     ]
    },
    {
     "name": "stdout",
     "output_type": "stream",
     "text": [
      "All tests passed!\n"
     ]
    },
    {
     "name": "stderr",
     "output_type": "stream",
     "text": [
      " 27%|██▋       | 105/383 [00:11<00:15, 17.95it/s]"
     ]
    },
    {
     "name": "stdout",
     "output_type": "stream",
     "text": [
      "unable to get function error = (<class 'AttributeError'>, AttributeError(\"module 'tmp_sol' has no attribute 'minimumOperations'\"), <traceback object at 0x7f698bf229c0>)\n"
     ]
    },
    {
     "name": "stderr",
     "output_type": "stream",
     "text": [
      " 35%|███▌      | 135/383 [00:12<00:11, 21.50it/s]"
     ]
    },
    {
     "name": "stdout",
     "output_type": "stream",
     "text": [
      "unable to get function error = (<class 'AttributeError'>, AttributeError(\"module 'tmp_sol' has no attribute 'minSizeSubarray'\"), <traceback object at 0x7f698bf229c0>)\n"
     ]
    },
    {
     "name": "stderr",
     "output_type": "stream",
     "text": [
      " 37%|███▋      | 140/383 [00:12<00:10, 23.95it/s]"
     ]
    },
    {
     "name": "stdout",
     "output_type": "stream",
     "text": [
      "All test cases passed!\n"
     ]
    },
    {
     "name": "stderr",
     "output_type": "stream",
     "text": [
      " 38%|███▊      | 147/383 [00:13<00:09, 23.97it/s]"
     ]
    },
    {
     "name": "stdout",
     "output_type": "stream",
     "text": [
      "All tests passed!\n"
     ]
    },
    {
     "name": "stderr",
     "output_type": "stream",
     "text": [
      " 39%|███▉      | 150/383 [00:13<00:10, 22.78it/s]"
     ]
    },
    {
     "name": "stdout",
     "output_type": "stream",
     "text": [
      "All tests passed!\n"
     ]
    },
    {
     "name": "stderr",
     "output_type": "stream",
     "text": [
      " 44%|████▍     | 168/383 [00:14<00:08, 26.86it/s]"
     ]
    },
    {
     "name": "stdout",
     "output_type": "stream",
     "text": [
      "alarm went off\n"
     ]
    },
    {
     "name": "stderr",
     "output_type": "stream",
     "text": [
      " 49%|████▊     | 186/383 [00:14<00:08, 24.40it/s]"
     ]
    },
    {
     "name": "stdout",
     "output_type": "stream",
     "text": [
      "alarm went off\n"
     ]
    },
    {
     "name": "stderr",
     "output_type": "stream",
     "text": [
      " 50%|████▉     | 191/383 [00:15<00:08, 23.76it/s]"
     ]
    },
    {
     "name": "stdout",
     "output_type": "stream",
     "text": [
      "All test cases passed!\n"
     ]
    },
    {
     "name": "stderr",
     "output_type": "stream",
     "text": [
      " 57%|█████▋    | 220/383 [00:18<00:15, 10.54it/s]"
     ]
    },
    {
     "name": "stdout",
     "output_type": "stream",
     "text": [
      "All tests passed!\n"
     ]
    },
    {
     "name": "stderr",
     "output_type": "stream",
     "text": [
      " 62%|██████▏   | 239/383 [00:19<00:09, 15.13it/s]"
     ]
    },
    {
     "name": "stdout",
     "output_type": "stream",
     "text": [
      "[2, 1, -1]\n",
      "[1, 2, 1]\n"
     ]
    },
    {
     "name": "stderr",
     "output_type": "stream",
     "text": [
      " 63%|██████▎   | 241/383 [00:19<00:09, 14.85it/s]"
     ]
    },
    {
     "name": "stdout",
     "output_type": "stream",
     "text": [
      "alarm went off\n"
     ]
    },
    {
     "name": "stderr",
     "output_type": "stream",
     "text": [
      " 64%|██████▍   | 247/383 [00:19<00:08, 16.64it/s]"
     ]
    },
    {
     "name": "stdout",
     "output_type": "stream",
     "text": [
      "24\n",
      "717356085\n"
     ]
    },
    {
     "name": "stderr",
     "output_type": "stream",
     "text": [
      " 72%|███████▏  | 274/383 [00:22<00:09, 11.02it/s]"
     ]
    },
    {
     "name": "stdout",
     "output_type": "stream",
     "text": [
      "All tests passed!\n"
     ]
    },
    {
     "name": "stderr",
     "output_type": "stream",
     "text": [
      " 73%|███████▎  | 281/383 [00:22<00:06, 15.39it/s]"
     ]
    },
    {
     "name": "stdout",
     "output_type": "stream",
     "text": [
      "All tests passed!\n"
     ]
    },
    {
     "name": "stderr",
     "output_type": "stream",
     "text": [
      " 78%|███████▊  | 297/383 [00:23<00:04, 17.67it/s]"
     ]
    },
    {
     "name": "stdout",
     "output_type": "stream",
     "text": [
      "All tests passed!\n",
      "alarm went off\n"
     ]
    },
    {
     "name": "stderr",
     "output_type": "stream",
     "text": [
      " 81%|████████  | 311/383 [00:23<00:03, 22.83it/s]"
     ]
    },
    {
     "name": "stdout",
     "output_type": "stream",
     "text": [
      "alarm went off\n"
     ]
    },
    {
     "name": "stderr",
     "output_type": "stream",
     "text": [
      " 87%|████████▋ | 334/383 [00:25<00:02, 19.97it/s]"
     ]
    },
    {
     "name": "stdout",
     "output_type": "stream",
     "text": [
      "4\n",
      "3\n",
      "All test cases passed!\n"
     ]
    },
    {
     "name": "stderr",
     "output_type": "stream",
     "text": [
      " 91%|█████████ | 347/383 [00:25<00:01, 24.47it/s]"
     ]
    },
    {
     "name": "stdout",
     "output_type": "stream",
     "text": [
      "All tests passed!\n"
     ]
    },
    {
     "name": "stderr",
     "output_type": "stream",
     "text": [
      " 91%|█████████▏| 350/383 [00:25<00:01, 24.56it/s]"
     ]
    },
    {
     "name": "stdout",
     "output_type": "stream",
     "text": [
      "Test case passed!\n"
     ]
    },
    {
     "name": "stderr",
     "output_type": "stream",
     "text": [
      " 97%|█████████▋| 372/383 [00:26<00:00, 20.31it/s]"
     ]
    },
    {
     "name": "stdout",
     "output_type": "stream",
     "text": [
      "alarm went off\n"
     ]
    },
    {
     "name": "stderr",
     "output_type": "stream",
     "text": [
      " 98%|█████████▊| 375/383 [00:28<00:01,  5.02it/s]"
     ]
    },
    {
     "name": "stdout",
     "output_type": "stream",
     "text": [
      "alarm went off\n"
     ]
    },
    {
     "name": "stderr",
     "output_type": "stream",
     "text": [
      " 98%|█████████▊| 377/383 [00:30<00:02,  2.52it/s]"
     ]
    },
    {
     "name": "stdout",
     "output_type": "stream",
     "text": [
      "alarm went off\n",
      "alarm went off\n"
     ]
    },
    {
     "name": "stderr",
     "output_type": "stream",
     "text": [
      " 99%|█████████▉| 379/383 [00:36<00:03,  1.04it/s]"
     ]
    },
    {
     "name": "stdout",
     "output_type": "stream",
     "text": [
      "alarm went off\n"
     ]
    },
    {
     "name": "stderr",
     "output_type": "stream",
     "text": [
      " 99%|█████████▉| 380/383 [00:37<00:03,  1.02s/it]"
     ]
    },
    {
     "name": "stdout",
     "output_type": "stream",
     "text": [
      "alarm went off\n"
     ]
    },
    {
     "name": "stderr",
     "output_type": "stream",
     "text": [
      "100%|█████████▉| 382/383 [00:43<00:01,  1.64s/it]"
     ]
    },
    {
     "name": "stdout",
     "output_type": "stream",
     "text": [
      "alarm went off\n"
     ]
    },
    {
     "name": "stderr",
     "output_type": "stream",
     "text": [
      "100%|██████████| 383/383 [01:19<00:00,  4.83it/s]\n"
     ]
    }
   ],
   "source": [
    "generations_all = []\n",
    "samples = []\n",
    "responses_all = []\n",
    "\n",
    "for idx in tqdm(range(len(dataset))):\n",
    "# for idx in range(1):\n",
    "    problem = CodeGenerationProblem(dataset[idx])\n",
    "    generations = []\n",
    "    for j, buggy_program in enumerate(dataset[idx][\"failed_solution\"]):\n",
    "        error_message = dataset[idx][\"error_messages\"][j]    \n",
    "        annotated_buggy_program = next_programs[idx][j] \n",
    "        generations.append(run_next(problem, annotated_buggy_program, error_message))\n",
    "    generations_all.append(generations)\n",
    "    samples.append(problem.get_evaluation_sample())\n",
    "    \n",
    "results, metadata = evaluate_generations(samples, generations_all, num_process_evaluate=32, timeout=6)\n",
    "metric = codegen_metrics(samples, generations_all)"
   ]
  },
  {
   "cell_type": "code",
   "execution_count": 19,
   "metadata": {},
   "outputs": [
    {
     "name": "stdout",
     "output_type": "stream",
     "text": [
      "We have a sequence of length N consisting of positive integers: A=(A_1,\\ldots,A_N). Any two adjacent terms have different values.\n",
      "Let us insert some numbers into this sequence by the following procedure.\n",
      "\n",
      "- If every pair of adjacent terms in A has an absolute difference of 1, terminate the procedure.\n",
      "- Let A_i, A_{i+1} be the pair of adjacent terms nearest to the beginning of A whose absolute difference is not 1.\n",
      "- If A_i < A_{i+1}, insert A_i+1,A_i+2,\\ldots,A_{i+1}-1 between A_i and A_{i+1}.\n",
      "- If A_i > A_{i+1}, insert A_i-1,A_i-2,\\ldots,A_{i+1}+1 between A_i and A_{i+1}.\n",
      "\n",
      "\n",
      "- Return to step 1.\n",
      "\n",
      "Print the sequence when the procedure ends.\n",
      "\n",
      "Input\n",
      "\n",
      "The input is given from Standard Input in the following format:\n",
      "N\n",
      "A_1 A_2 \\ldots A_N\n",
      "\n",
      "Output\n",
      "\n",
      "Print the terms in the sequence when the procedure ends, separated by spaces.\n",
      "\n",
      "Constraints\n",
      "\n",
      "\n",
      "- 2 \\leq N \\leq 100\n",
      "- 1 \\leq A_i \\leq 100\n",
      "- A_i \\neq A_{i+1}\n",
      "- All values in the input are integers.\n",
      "\n",
      "Sample Input 1\n",
      "\n",
      "4\n",
      "2 5 1 2\n",
      "\n",
      "Sample Output 1\n",
      "\n",
      "2 3 4 5 4 3 2 1 2\n",
      "\n",
      "The initial sequence is (2,5,1,2). The procedure goes as follows.\n",
      "\n",
      "- Insert 3,4 between the first term 2 and the second term 5, making the sequence (2,3,4,5,1,2).\n",
      "- Insert 4,3,2 between the fourth term 5 and the fifth term 1, making the sequence (2,3,4,5,4,3,2,1,2).\n",
      "\n",
      "Sample Input 2\n",
      "\n",
      "6\n",
      "3 4 5 6 5 4\n",
      "\n",
      "Sample Output 2\n",
      "\n",
      "3 4 5 6 5 4\n",
      "\n",
      "No insertions may be performed.\n"
     ]
    }
   ],
   "source": [
    "print(dataset[0][\"question_content\"])"
   ]
  },
  {
   "cell_type": "code",
   "execution_count": 20,
   "metadata": {},
   "outputs": [
    {
     "name": "stdout",
     "output_type": "stream",
     "text": [
      "import sys\n",
      "\n",
      "# Read input\n",
      "N = int(sys.stdin.readline().strip())\n",
      "A = [int(x) for x in sys.stdin.readline().strip().split()]\n",
      "\n",
      "# Helper function to insert numbers between adjacent terms\n",
      "def insert_numbers(arr):\n",
      "    i = 0\n",
      "    while i < len(arr) - 1:\n",
      "        if abs(arr[i] - arr[i+1]) != 1:\n",
      "            if arr[i] < arr[i+1]:\n",
      "                for j in range(arr[i]+1, arr[i+1]):\n",
      "                    arr.insert(i+1, j)\n",
      "                i += arr[i+1] - arr[i]\n",
      "            else:\n",
      "                for j in range(arr[i+1]+1, arr[i]):\n",
      "                    arr.insert(i+1, j)\n",
      "                i += arr[i] - arr[i+1]\n",
      "        else:\n",
      "            i += 1\n",
      "    return arr\n",
      "\n",
      "# Solve the problem\n",
      "while True:\n",
      "    A = insert_numbers(A)\n",
      "    if all(abs(A[i] - A[i+1]) == 1 for i in range(len(A)-1)):\n",
      "        break\n",
      "\n",
      "# Print the final sequence\n",
      "print(\" \".join(map(str, A)))\n"
     ]
    }
   ],
   "source": [
    "print(dataset[0][\"failed_solution\"][0])"
   ]
  },
  {
   "cell_type": "code",
   "execution_count": 14,
   "metadata": {},
   "outputs": [
    {
     "data": {
      "text/plain": [
       "{'pass@1': 0.4570806100217865,\n",
       " 'detail': {'pass@1': {0: 0.0,\n",
       "   1: 0.0,\n",
       "   2: 0.0,\n",
       "   3: 0.0,\n",
       "   4: 0.0,\n",
       "   5: 0.0,\n",
       "   6: 0.0,\n",
       "   7: 0.0,\n",
       "   8: 0.0,\n",
       "   9: 0.0,\n",
       "   10: 0.0,\n",
       "   11: 0.0,\n",
       "   12: 0.0,\n",
       "   13: 0.0,\n",
       "   14: 0.0,\n",
       "   15: 0.0,\n",
       "   16: 0.0,\n",
       "   17: 0.0,\n",
       "   18: 0.0,\n",
       "   19: 0.0,\n",
       "   20: 0.0,\n",
       "   21: 0.0,\n",
       "   22: 0.0,\n",
       "   23: 0.0,\n",
       "   24: 0.0,\n",
       "   25: 0.0,\n",
       "   26: 0.0,\n",
       "   27: 0.0,\n",
       "   28: 0.0,\n",
       "   29: 0.0,\n",
       "   30: 0.0,\n",
       "   31: 0.0,\n",
       "   32: 0.0,\n",
       "   33: 1.0,\n",
       "   34: 1.0,\n",
       "   35: 1.0,\n",
       "   36: 1.0,\n",
       "   37: 1.0,\n",
       "   38: 1.0,\n",
       "   39: 0.25,\n",
       "   40: 0.0,\n",
       "   41: 0.5,\n",
       "   42: 1.0,\n",
       "   43: 0.0,\n",
       "   44: 0.0,\n",
       "   45: 0.0,\n",
       "   46: 1.0,\n",
       "   47: 1.0,\n",
       "   48: 0.0,\n",
       "   49: 1.0,\n",
       "   50: 0.6666666666666666,\n",
       "   51: 1.0,\n",
       "   52: 1.0,\n",
       "   53: 0.5,\n",
       "   54: 1.0,\n",
       "   55: 1.0,\n",
       "   56: 0.0,\n",
       "   57: 1.0,\n",
       "   58: 0.33333333333333326,\n",
       "   59: 0.0,\n",
       "   60: 1.0,\n",
       "   61: 1.0,\n",
       "   62: 1.0,\n",
       "   63: 1.0,\n",
       "   64: 0.0,\n",
       "   65: 1.0,\n",
       "   66: 1.0,\n",
       "   67: 0.0,\n",
       "   68: 0.0,\n",
       "   69: 1.0,\n",
       "   70: 0.0,\n",
       "   71: 1.0,\n",
       "   72: 1.0,\n",
       "   73: 0.5,\n",
       "   74: 1.0,\n",
       "   75: 0.0,\n",
       "   76: 1.0,\n",
       "   77: 1.0,\n",
       "   78: 0.5,\n",
       "   79: 1.0,\n",
       "   80: 0.0,\n",
       "   81: 0.16666666666666663,\n",
       "   82: 0.6666666666666666,\n",
       "   83: 1.0,\n",
       "   84: 0.5,\n",
       "   85: 0.0,\n",
       "   86: 0.6666666666666666,\n",
       "   87: 0.33333333333333326,\n",
       "   88: 0.0,\n",
       "   89: 1.0,\n",
       "   90: 1.0,\n",
       "   91: 1.0,\n",
       "   92: 1.0,\n",
       "   93: 0.16666666666666663,\n",
       "   94: 1.0,\n",
       "   95: 1.0,\n",
       "   96: 1.0,\n",
       "   97: 1.0,\n",
       "   98: 0.0,\n",
       "   99: 0.5,\n",
       "   100: 0.0,\n",
       "   101: 0.6666666666666666,\n",
       "   102: 0.5,\n",
       "   103: 0.0,\n",
       "   104: 1.0,\n",
       "   105: 1.0,\n",
       "   106: 1.0,\n",
       "   107: 0.19999999999999996,\n",
       "   108: 0.5,\n",
       "   109: 1.0,\n",
       "   110: 1.0,\n",
       "   111: 0.0,\n",
       "   112: 0.0,\n",
       "   113: 0.5,\n",
       "   114: 1.0,\n",
       "   115: 0.19999999999999996,\n",
       "   116: 0.0,\n",
       "   117: 0.0,\n",
       "   118: 1.0,\n",
       "   119: 0.75,\n",
       "   120: 1.0,\n",
       "   121: 0.0,\n",
       "   122: 1.0,\n",
       "   123: 0.0,\n",
       "   124: 1.0,\n",
       "   125: 0.75,\n",
       "   126: 1.0,\n",
       "   127: 0.5,\n",
       "   128: 1.0,\n",
       "   129: 0.0,\n",
       "   130: 0.16666666666666663,\n",
       "   131: 1.0,\n",
       "   132: 0.25,\n",
       "   133: 1.0,\n",
       "   134: 1.0,\n",
       "   135: 1.0,\n",
       "   136: 0.0,\n",
       "   137: 0.5,\n",
       "   138: 0.6666666666666666,\n",
       "   139: 0.0,\n",
       "   140: 0.0,\n",
       "   141: 1.0,\n",
       "   142: 0.0,\n",
       "   143: 0.0,\n",
       "   144: 1.0,\n",
       "   145: 0.0,\n",
       "   146: 0.33333333333333326,\n",
       "   147: 0.0,\n",
       "   148: 1.0,\n",
       "   149: 0.0,\n",
       "   150: 1.0,\n",
       "   151: 0.0,\n",
       "   152: 0.19999999999999996}}}"
      ]
     },
     "execution_count": 14,
     "metadata": {},
     "output_type": "execute_result"
    }
   ],
   "source": [
    "metric[0]"
   ]
  },
  {
   "cell_type": "code",
   "execution_count": null,
   "metadata": {},
   "outputs": [],
   "source": []
  }
 ],
 "metadata": {
  "kernelspec": {
   "display_name": "vexec",
   "language": "python",
   "name": "python3"
  },
  "language_info": {
   "codemirror_mode": {
    "name": "ipython",
    "version": 3
   },
   "file_extension": ".py",
   "mimetype": "text/x-python",
   "name": "python",
   "nbconvert_exporter": "python",
   "pygments_lexer": "ipython3",
   "version": "3.10.14"
  }
 },
 "nbformat": 4,
 "nbformat_minor": 2
}
