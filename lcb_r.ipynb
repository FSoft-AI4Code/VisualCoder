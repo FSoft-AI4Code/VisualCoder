{
 "cells": [
  {
   "cell_type": "code",
   "execution_count": null,
   "metadata": {},
   "outputs": [],
   "source": [
    "from datasets import load_dataset\n",
    "import json\n",
    "from dataclasses import dataclass\n",
    "from enum import Enum\n",
    "import zlib\n",
    "import pickle\n",
    "from src.utils.utils import evaluate_generations, codegen_metrics\n",
    "\n",
    "dataset = load_dataset(\"huypn16/LCB-R-F\")[\"test\"]"
   ]
  },
  {
   "cell_type": "code",
   "execution_count": null,
   "metadata": {},
   "outputs": [],
   "source": [
    "from src.tasks.debug.lcb_debug import CodeGenerationProblem\n",
    "generations_all = []\n",
    "samples = []\n",
    "responses_all = []\n",
    "\n",
    "for idx in range(len(dataset)):\n",
    "# for idx in range(1):\n",
    "    problem = CodeGenerationProblem(dataset[idx])\n",
    "    generations = []\n",
    "    for failed_generation in dataset[idx][\"failed_generations\"]:\n",
    "        buggy_program = failed_generation[\"failed_solution\"]\n",
    "        # error_message = \"\"\n",
    "        \n",
    "        # generations = run(problem, buggy_program, error_message)\n",
    "        generations.append(buggy_program)\n",
    "    generations_all.append(generations)\n",
    "    samples.append(problem.get_evaluation_sample())\n",
    "    \n",
    "results, metadata = evaluate_generations(samples, generations_all, num_process_evaluate=32, timeout=6)\n",
    "metric = codegen_metrics(samples, generations_all)"
   ]
  },
  {
   "cell_type": "code",
   "execution_count": null,
   "metadata": {},
   "outputs": [],
   "source": [
    "for i in range(len(metric[2])):\n",
    "    if len(metric[2][i]) != len(generations_all[i]):\n",
    "        print(len(metric[2][i]))\n",
    "        print(len(generations_all[i]))"
   ]
  },
  {
   "cell_type": "code",
   "execution_count": null,
   "metadata": {},
   "outputs": [],
   "source": [
    "valid_ids = {}\n",
    "error_messages = []\n",
    "for id_instance, instance in enumerate(metric[2]):\n",
    "    messages = []\n",
    "    if id_instance not in valid_ids:\n",
    "        valid_ids[id_instance] = []\n",
    "    for id_sample, sample in enumerate(instance):\n",
    "        if \"TimeoutException\" not in sample and '{\"output\": \"\"' not in sample:\n",
    "            sample = sample.replace(', \"error_code\": -2, \"error_message\":', \",\")\n",
    "            valid_ids[id_instance].append(id_sample)\n",
    "            messages.append(sample)\n",
    "        \n",
    "    error_messages.append(messages)\n",
    "    "
   ]
  },
  {
   "cell_type": "code",
   "execution_count": null,
   "metadata": {},
   "outputs": [],
   "source": [
    "valid_ids = {k: v for k, v in valid_ids.items() if len(v) > 0}\n",
    "error_messages = [error_messages[k] for k in valid_ids.keys()]"
   ]
  },
  {
   "cell_type": "code",
   "execution_count": null,
   "metadata": {},
   "outputs": [],
   "source": [
    "# Initialize an empty list to store the result\n",
    "result = []\n",
    "total_samples = 0\n",
    "# Iterate over each key `i` in `valid_ids`\n",
    "for i in valid_ids.keys():\n",
    "    # Check if `valid_ids[i]` has elements\n",
    "    if len(valid_ids[i]) > 0:\n",
    "        inner_list = []\n",
    "        for valid_id in valid_ids[i]:\n",
    "            inner_list.append(generations_all[i][valid_id])\n",
    "                \n",
    "        result.append(inner_list)\n",
    "        total_samples += len(inner_list)\n",
    "print(total_samples)"
   ]
  },
  {
   "cell_type": "code",
   "execution_count": null,
   "metadata": {},
   "outputs": [],
   "source": [
    "len(result[0])"
   ]
  },
  {
   "cell_type": "code",
   "execution_count": null,
   "metadata": {},
   "outputs": [],
   "source": [
    "dataset = dataset.add_column(\"failed_solution\", result)\n",
    "\n",
    "for idx in range(len(dataset)):\n",
    "    dataset[idx][\"error_messages\"] = error_messages[idx]"
   ]
  },
  {
   "cell_type": "code",
   "execution_count": null,
   "metadata": {},
   "outputs": [],
   "source": [
    "for instance in dataset:\n",
    "    if len(instance[\"failed_solution\"]) != len(instance[\"error_messages\"]):\n",
    "        print(len(instance[\"failed_generations\"]))\n",
    "        print(len(instance[\"error_messages\"]))"
   ]
  },
  {
   "cell_type": "code",
   "execution_count": null,
   "metadata": {},
   "outputs": [],
   "source": [
    "error_messages[0]"
   ]
  },
  {
   "cell_type": "code",
   "execution_count": null,
   "metadata": {},
   "outputs": [],
   "source": [
    "dataset.push_to_hub(\"huypn16/LCB-R-F\")"
   ]
  },
  {
   "cell_type": "code",
   "execution_count": null,
   "metadata": {},
   "outputs": [],
   "source": [
    "import anthropic\n",
    "import re\n",
    "import os\n",
    "\n",
    "pattern = r\"```python(.*?)```\"  \n",
    "SYSTEM_MESSAGE_GENERIC = f\"You are an expert Python programmer. You will be given a question (problem specification), a buggy program and its error message, you will generate a correct Python program that matches the specification, fix the original program and passes all the tests. You should think step-by-step logically before returning final the program. The program should only include function definition with parameter list in order.\"\n",
    "\n",
    "def get_template_answer(question: CodeGenerationProblem, buggy_prorgam: str, error_message: str):\n",
    "    prompt = f\"### Question:\\n{question.question_content}\\n\\n\"\n",
    "    prompt += f\"### Buggy program:\\n```python\\n{buggy_prorgam}\\n```\\n\\n\"\n",
    "    prompt += f\"### Error message:\\n{error_message}\\n\\n\"\n",
    "    prompt += \"Your reasoning: ....```python\\n# YOUR CODE HERE\\n```\\n\\n\"\n",
    "    return prompt\n",
    "    \n",
    "def run(problem: CodeGenerationProblem, buggy_program: str, error_message: str):\n",
    "    client = anthropic.Anthropic(api_key=os.getenv(\"ANTHROPIC_API_KEY\"))\n",
    "    chat_messages = [\n",
    "        {\n",
    "            \"role\": \"user\",\n",
    "            \"content\": get_template_answer(problem, buggy_program, error_message),\n",
    "        },\n",
    "    ]\n",
    "    try:\n",
    "        response = client.messages.create(\n",
    "            model=\"claude-3-5-sonnet-20240620\",\n",
    "            system=SYSTEM_MESSAGE_GENERIC,\n",
    "            messages=chat_messages,\n",
    "            max_tokens=2048\n",
    "        )\n",
    "        solution = response.content[0].text\n",
    "    except:\n",
    "        solution = \"\"\n",
    "        \n",
    "    match = re.search(pattern, solution, re.DOTALL)\n",
    "    if match:\n",
    "        python_code = match.group(1).strip()\n",
    "    else:\n",
    "        python_code = \"\"\n",
    "    return python_code"
   ]
  },
  {
   "cell_type": "code",
   "execution_count": null,
   "metadata": {},
   "outputs": [],
   "source": [
    "from tqdm import tqdm\n",
    "generations_all = []\n",
    "samples = []\n",
    "responses_all = []\n",
    "\n",
    "for idx in tqdm(range(len(dataset))):\n",
    "# for idx in range(1):\n",
    "    problem = CodeGenerationProblem(dataset[idx])\n",
    "    generations = []\n",
    "    for j, buggy_program in enumerate(dataset[idx][\"failed_solution\"]):\n",
    "        error_message = dataset[idx][\"error_messages\"][j]     \n",
    "        generations.append(run(problem, buggy_program, error_message))\n",
    "    generations_all.append(generations)\n",
    "    samples.append(problem.get_evaluation_sample())\n",
    "    \n",
    "results, metadata = evaluate_generations(samples, generations_all, num_process_evaluate=32, timeout=6)\n",
    "metric = codegen_metrics(samples, generations_all)"
   ]
  },
  {
   "cell_type": "code",
   "execution_count": null,
   "metadata": {},
   "outputs": [],
   "source": [
    "from src.codetransform.next import execute_and_trace"
   ]
  },
  {
   "cell_type": "code",
   "execution_count": null,
   "metadata": {},
   "outputs": [],
   "source": [
    "import anthropic\n",
    "import re\n",
    "import os\n",
    "\n",
    "pattern = r\"```python(.*?)```\"  \n",
    "SYSTEM_MESSAGE_GENERIC = f\"You are an expert Python programmer. You will be given a question (problem specification), a buggy program with annotation of intermediate variables and its error message, you will generate a correct Python program that matches the specification, fix the original program based on control flow and error message to pass all the tests. You should think step-by-step logically before returning final the program. The program should only include function definition with parameter list in order.\"\n",
    "\n",
    "def get_template_answer(question: CodeGenerationProblem, buggy_prorgam: str, error_message: str):\n",
    "    \n",
    "    annotated_program = execute_and_trace(buggy_prorgam)\n",
    "    \n",
    "    prompt = f\"### Question:\\n{question.question_content}\\n\\n\"\n",
    "    prompt += f\"### Annotated Buggy program:\\n```python\\n{annotated_program}\\n```\\n\\n\"\n",
    "    prompt += f\"### Error message:\\n{error_message}\\n\\n\"\n",
    "    prompt += \"Your reasoning: ....```python\\n# YOUR CODE HERE\\n```\\n\\n\"\n",
    "    return prompt\n",
    "    \n",
    "def run(problem: CodeGenerationProblem, buggy_program: str, error_message: str):\n",
    "    client = anthropic.Anthropic(api_key=os.getenv(\"ANTHROPIC_API_KEY\"))\n",
    "    chat_messages = [\n",
    "        {\n",
    "            \"role\": \"user\",\n",
    "            \"content\": get_template_answer(problem, buggy_program, error_message),\n",
    "        },\n",
    "    ]\n",
    "    try:\n",
    "        response = client.messages.create(\n",
    "            model=\"claude-3-5-sonnet-20240620\",\n",
    "            system=SYSTEM_MESSAGE_GENERIC,\n",
    "            messages=chat_messages,\n",
    "            max_tokens=2048\n",
    "        )\n",
    "        solution = response.content[0].text\n",
    "    except:\n",
    "        solution = \"\"\n",
    "        \n",
    "    match = re.search(pattern, solution, re.DOTALL)\n",
    "    if match:\n",
    "        python_code = match.group(1).strip()\n",
    "    else:\n",
    "        python_code = \"\"\n",
    "    return python_code"
   ]
  },
  {
   "cell_type": "code",
   "execution_count": 50,
   "metadata": {},
   "outputs": [
    {
     "name": "stdout",
     "output_type": "stream",
     "text": [
      "class Solution:\n",
      "    def maxSelectedElements(self, nums: List[int]) -> int: # (0) __module__=builtins; __qualname__=Solution; ...; (1) __module__=builtins; __qualname__=Solution\n",
      "        # Sort the array\n",
      "        nums.sort()\n",
      "\n",
      "        # Dictionary to store the length of consecutive sequences\n",
      "        dp = {}\n",
      "        max_length = 0\n",
      "\n",
      "        for num in nums:\n",
      "            # Option 1: Keep the number as is\n",
      "            dp[num] = dp.get(num - 1, 0) + 1\n",
      "\n",
      "            # Option 2: Increase the number by 1\n",
      "            dp[num + 1] = dp.get(num, 0) + 1\n",
      "\n",
      "            # Update the maximum length\n",
      "            max_length = max(max_length, dp[num], dp[num + 1])\n",
      "\n",
      "        return max_length\n"
     ]
    }
   ],
   "source": [
    "print(execute_and_trace(buggy_program))"
   ]
  },
  {
   "cell_type": "code",
   "execution_count": null,
   "metadata": {},
   "outputs": [],
   "source": []
  },
  {
   "cell_type": "code",
   "execution_count": null,
   "metadata": {},
   "outputs": [],
   "source": []
  }
 ],
 "metadata": {
  "kernelspec": {
   "display_name": "vexec",
   "language": "python",
   "name": "python3"
  },
  "language_info": {
   "codemirror_mode": {
    "name": "ipython",
    "version": 3
   },
   "file_extension": ".py",
   "mimetype": "text/x-python",
   "name": "python",
   "nbconvert_exporter": "python",
   "pygments_lexer": "ipython3",
   "version": "3.10.14"
  }
 },
 "nbformat": 4,
 "nbformat_minor": 2
}
